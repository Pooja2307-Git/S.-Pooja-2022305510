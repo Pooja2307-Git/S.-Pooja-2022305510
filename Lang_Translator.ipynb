{
  "nbformat": 4,
  "nbformat_minor": 0,
  "metadata": {
    "colab": {
      "provenance": [],
      "authorship_tag": "ABX9TyPNRf2dcxoqe5Qbcg1r4DX1",
      "include_colab_link": true
    },
    "kernelspec": {
      "name": "python3",
      "display_name": "Python 3"
    },
    "language_info": {
      "name": "python"
    }
  },
  "cells": [
    {
      "cell_type": "markdown",
      "metadata": {
        "id": "view-in-github",
        "colab_type": "text"
      },
      "source": [
        "<a href=\"https://colab.research.google.com/github/Pooja2307-Git/S.-Pooja-2022305510/blob/main/Lang_Translator.ipynb\" target=\"_parent\"><img src=\"https://colab.research.google.com/assets/colab-badge.svg\" alt=\"Open In Colab\"/></a>"
      ]
    },
    {
      "cell_type": "code",
      "execution_count": null,
      "metadata": {
        "id": "fxjoWIufI1ui"
      },
      "outputs": [],
      "source": [
        "# Install required libraries\n",
        "!pip install gradio transformers torch gtts --quiet\n",
        "\n",
        "# Import necessary libraries\n",
        "import gradio as gr\n",
        "from transformers import pipeline\n",
        "from gtts import gTTS\n",
        "import os\n",
        "\n",
        "# Define translation models for South Indian languages\n",
        "translation_models = {\n",
        "    \"English to Tamil\": \"Helsinki-NLP/opus-mt-en-ta\",\n",
        "    \"English to Telugu\": \"Helsinki-NLP/opus-mt-en-te\",\n",
        "    \"English to Kannada\": \"Helsinki-NLP/opus-mt-en-kn\",\n",
        "    \"English to Malayalam\": \"Helsinki-NLP/opus-mt-en-ml\"\n",
        "}\n",
        "\n",
        "# Function to translate text\n",
        "def translate_text(text, language):\n",
        "    model_name = translation_models[language]\n",
        "    translator = pipeline(\"translation\", model=model_name)\n",
        "    translated_text = translator(text)[0][\"translation_text\"]\n",
        "\n",
        "    # Generate speech\n",
        "    tts = gTTS(translated_text, lang=\"ta\" if \"Tamil\" in language else\n",
        "                                   \"te\" if \"Telugu\" in language else\n",
        "                                   \"kn\" if \"Kannada\" in language else\n",
        "                                   \"ml\")  # Malayalam\n",
        "\n",
        "    audio_path = \"translated_speech.mp3\"\n",
        "    tts.save(audio_path)\n",
        "\n",
        "    return translated_text, audio_path\n",
        "\n",
        "# Create a Gradio interface with dropdown for language selection\n",
        "iface = gr.Interface(\n",
        "    fn=translate_text,\n",
        "    inputs=[\n",
        "        gr.Textbox(lines=3, placeholder=\"Enter text in English...\"),\n",
        "        gr.Dropdown(choices=list(translation_models.keys()), label=\"Select Target Language\")\n",
        "    ],\n",
        "    outputs=[gr.Textbox(label=\"Translated Text\"), gr.Audio(label=\"Text-to-Speech Output\")],\n",
        "    title=\"South Indian Language Translator + TTS\",\n",
        "    description=\"Enter text in English, select a South Indian language, and get the translated text with speech output.\"\n",
        ")\n",
        "\n",
        "# Launch the Gradio app\n",
        "iface.launch(share=True)\n",
        "\n",
        "   ━━━━━━━━━━━━━━━━━━━━━━━━━━━━━━━━━━━━━━━━ 46.5/46.5 MB 12.6 MB/s eta 0:00:00\n",
        "   ━━━━━━━━━━━━━━━━━━━━━━━━━━━━━━━━━━━━━━━━ 322.2/322.2 kB 12.4 MB/s eta 0:00:00\n",
        "   ━━━━━━━━━━━━━━━━━━━━━━━━━━━━━━━━━━━━━━━━ 363.4/363.4 MB 4.2 MB/s eta 0:00:00\n",
        "   ━━━━━━━━━━━━━━━━━━━━━━━━━━━━━━━━━━━━━━━━ 13.8/13.8 MB 31.2 MB/s eta 0:00:00\n",
        "   ━━━━━━━━━━━━━━━━━━━━━━━━━━━━━━━━━━━━━━━━ 24.6/24.6 MB 21.9 MB/s eta 0:00:00\n",
        "   ━━━━━━━━━━━━━━━━━━━━━━━━━━━━━━━━━━━━━━━━ 883.7/883.7 kB 8.7 MB/s eta 0:00:00\n",
        "   ━━━━━━━━━━━━━━━━━━━━━━━━━━━━━━━━━━━━━━━━ 664.8/664.8 MB 2.2 MB/s eta 0:00:00\n",
        "   ━━━━━━━━━━━━━━━━━━━━━━━━━━━━━━━━━━━━━━━━ 211.5/211.5 MB 5.5 MB/s eta 0:00:00\n",
        "   ━━━━━━━━━━━━━━━━━━━━━━━━━━━━━━━━━━━━━━━━ 56.3/56.3 MB 12.0 MB/s eta 0:00:00\n",
        "   ━━━━━━━━━━━━━━━━━━━━━━━━━━━━━━━━━━━━━━━━ 127.9/127.9 MB 7.4 MB/s eta 0:00:00\n",
        "   ━━━━━━━━━━━━━━━━━━━━━━━━━━━━━━━━━━━━━━━━ 207.5/207.5 MB 5.8 MB/s eta 0:00:00\n",
        "   ━━━━━━━━━━━━━━━━━━━━━━━━━━━━━━━━━━━━━━━━ 21.1/21.1 MB 77.2 MB/s eta 0:00:00\n",
        "   ━━━━━━━━━━━━━━━━━━━━━━━━━━━━━━━━━━━━━━━━ 95.2/95.2 kB 6.5 MB/s eta 0:00:00\n",
        "   ━━━━━━━━━━━━━━━━━━━━━━━━━━━━━━━━━━━━━━━━ 11.3/11.3 MB 98.0 MB/s eta 0:00:00\n",
        "   ━━━━━━━━━━━━━━━━━━━━━━━━━━━━━━━━━━━━━━━━ 72.0/72.0 kB 5.2 MB/s eta 0:00:00\n",
        "   ━━━━━━━━━━━━━━━━━━━━━━━━━━━━━━━━━━━━━━━━ 62.3/62.3 kB 4.4 MB/s eta 0:00:00\n",
        "Colab notebook detected. To show errors in colab notebook, set debug=True in launch()\n",
        "* Running on public URL: https://45c3f9a5010a35c4e2.gradio.live\n",
        "\n",
        "This share link expires in 72 hours. For free permanent hosting and GPU upgrades, run `gradio deploy` from the terminal in the working directory to deploy to Hugging Face Spaces (https://huggingface.co/spaces)\n"
      ]
    }
  ]
}
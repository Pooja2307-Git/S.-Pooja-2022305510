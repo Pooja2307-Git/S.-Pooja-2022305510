{
  "nbformat": 4,
  "nbformat_minor": 0,
  "metadata": {
    "colab": {
      "provenance": [],
      "authorship_tag": "ABX9TyOTlG92cWiuhuSe6pqPUHLP",
      "include_colab_link": true
    },
    "kernelspec": {
      "name": "python3",
      "display_name": "Python 3"
    },
    "language_info": {
      "name": "python"
    }
  },
  "cells": [
    {
      "cell_type": "markdown",
      "metadata": {
        "id": "view-in-github",
        "colab_type": "text"
      },
      "source": [
        "<a href=\"https://colab.research.google.com/github/Pooja2307-Git/S.-Pooja-2022305510/blob/main/Newspaper_report.ipynb\" target=\"_parent\"><img src=\"https://colab.research.google.com/assets/colab-badge.svg\" alt=\"Open In Colab\"/></a>"
      ]
    },
    {
      "cell_type": "code",
      "execution_count": null,
      "metadata": {
        "id": "T9v_yE6KQpGT"
      },
      "outputs": [],
      "source": [
        "# ✅ Step 1: Install required packages (fixes lxml issue too)\n",
        "!pip install -q newspaper3k transformers lxml_html_clean\n",
        "\n",
        "# ✅ Step 2: Import libraries\n",
        "from newspaper import Article\n",
        "from transformers import BartTokenizer, BartForConditionalGeneration\n",
        "import torch\n",
        "\n",
        "# ✅ Step 3: Load BART model for summarization\n",
        "tokenizer = BartTokenizer.from_pretrained('facebook/bart-large-cnn')\n",
        "model = BartForConditionalGeneration.from_pretrained('facebook/bart-large-cnn')\n",
        "\n",
        "# ✅ Step 4: Function to extract article and summarize\n",
        "def summarize_article(url):\n",
        "    try:\n",
        "        # Extract article content\n",
        "        article = Article(url)\n",
        "        article.download()\n",
        "        article.parse()\n",
        "        text = article.text\n",
        "\n",
        "        print(\"📰 Full Article Extracted:\\n\")\n",
        "        print(text[:1000] + '...\\n')  # Print first 1000 characters\n",
        "\n",
        "        # Tokenize and summarize\n",
        "        inputs = tokenizer.encode(text, return_tensors='pt', max_length=1024, truncation=True)\n",
        "        summary_ids = model.generate(inputs, max_length=150, min_length=40, length_penalty=2.0, num_beams=4, early_stopping=True)\n",
        "        summary = tokenizer.decode(summary_ids[0], skip_special_tokens=True)\n",
        "\n",
        "        print(\"\\n🧠 Summary:\\n\")\n",
        "        print(summary)\n",
        "\n",
        "    except Exception as e:\n",
        "        print(f\"❌ Error: {e}\")\n",
        "\n",
        "# ✅ Step 5: Paste your article URL here\n",
        "url = input(\"🔗 Enter the news article URL: \")\n",
        "summarize_article(url)\n"
      ]
    }
  ]
}